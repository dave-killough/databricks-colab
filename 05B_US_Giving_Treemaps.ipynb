{
  "nbformat": 4,
  "nbformat_minor": 0,
  "metadata": {
    "colab": {
      "provenance": [],
      "toc_visible": true,
      "authorship_tag": "ABX9TyPVMDZyzGmskheRZKymE0up",
      "include_colab_link": true
    },
    "kernelspec": {
      "name": "python3",
      "display_name": "Python 3"
    },
    "language_info": {
      "name": "python"
    }
  },
  "cells": [
    {
      "cell_type": "markdown",
      "metadata": {
        "id": "view-in-github",
        "colab_type": "text"
      },
      "source": [
        "<a href=\"https://colab.research.google.com/github/dave-killough/databricks-colab/blob/main/05B_US_Giving_Treemaps.ipynb\" target=\"_parent\"><img src=\"https://colab.research.google.com/assets/colab-badge.svg\" alt=\"Open In Colab\"/></a>"
      ]
    },
    {
      "cell_type": "markdown",
      "source": [
        "# US Giving Treemaps Module\n",
        "This notebook is modularized for import by the [datamachine](https://pypi.org/project/datamachine/) package so designated code here can be reused in another Python context as if it were imported like a traditional Python package.  Definition of the module is provided in this first part, and an example of calling it from a different Python context is provided down further in the TESTS part.\n",
        "\n",
        "Key adaptations to modularize a notebook for datamachine include:\n",
        "\n",
        "*   Creating a static `_Data` class for caching data and storing variables that would otherwise be global.  \n",
        "*   Prefixing every cell to be excluded from the imported module by placing a comment of `#test` in the top of the cell.   \n",
        "*   Hiding classes, variables, and functions by prefixing them with an underscore as in `_get_color()`.  This adaptation helps to clean up the code completion and help assistance in the calling Python context.\n",
        "*   Placing `import` statements within the functions that are using them.  This futher cleans up the code completion and help assistance in the calling Python context.\n",
        "*   Documenting exposed functions for help assistance in the calling Python context.\n",
        "\n",
        "\n"
      ],
      "metadata": {
        "id": "wjlO-OSuDXrP"
      }
    },
    {
      "cell_type": "markdown",
      "source": [
        "## _Data\n",
        "This static class provides a cached storage of data, global level values used by various functions in the module, and a set of accessor functions. In this case the same data is being used in a spark dataframe for parallel processing and a pandas dataframe for chart creation."
      ],
      "metadata": {
        "id": "DkKGOGi5CpfY"
      }
    },
    {
      "cell_type": "code",
      "source": [
        "class _Data:\n",
        "\n",
        "    eo990spark = None # used for distributed rendering and making eo990pandas\n",
        "    eo990pandas = None # used by _sector_table() and _giving_treemap_sectors()\n",
        "\n",
        "    def get_eo990spark(spark):\n",
        "        if _Data.eo990spark is not None: # cached\n",
        "            return _Data.eo990spark\n",
        "        _Data.eo990pandas = None # clear cache\n",
        "        _Data.eo990spark = spark.sql(\"\"\"\n",
        "            SELECT EIN, NTEE3, ntee1.SECTOR AS SECTOR1, eo990.SECTOR,\n",
        "                ReturnTypeCd, TaxPeriodEndDt, BusinessName, CITY, STATE,\n",
        "                PYContributionsGrantsAmt, CYContributionsGrantsAmt,\n",
        "                PYGrantsAndSimilarPaidAmt, CYGrantsAndSimilarPaidAmt,\n",
        "                PYTotalProfFndrsngExpnsAmt, CYTotalProfFndrsngExpnsAmt,\n",
        "                CYTotalFundraisingExpenseAmt,\n",
        "                TotalEmployeeCnt, TotalVolunteersCnt\n",
        "            FROM eo990\n",
        "            JOIN gcst AS ntee1 ON LEFT(eo990.NTEE3,1) = ntee1.code\n",
        "            JOIN gcst AS ntee3 ON LEFT(eo990.NTEE3,3) = ntee3.code\n",
        "            WHERE CYContributionsGrantsAmt > 0\n",
        "        \"\"\")\n",
        "        return _Data.eo990spark\n",
        "\n",
        "    def get_eo990pandas(spark):\n",
        "        if _Data.eo990pandas is not None:\n",
        "            return _Data.eo990pandas\n",
        "        if _Data.eo990spark is None: # load pandas from spark call\n",
        "            _Data.eo990pandas = _Data.get_eo990spark(spark).toPandas()\n",
        "        return _Data.eo990pandas\n"
      ],
      "metadata": {
        "id": "NZsobJRwCmzV"
      },
      "execution_count": 1,
      "outputs": []
    },
    {
      "cell_type": "markdown",
      "source": [
        "## _get_color()"
      ],
      "metadata": {
        "id": "wHk0tYmut-wy"
      }
    },
    {
      "cell_type": "code",
      "source": [
        "def _get_color(value):\n",
        "    \"\"\"\n",
        "    Function to return the color based on an input value from -100 to 100.\n",
        "    -100 is mapped to red, 0 is mapped to white, and 100 is mapped to green.\n",
        "    \"\"\"\n",
        "\n",
        "    import matplotlib as mpl\n",
        "    import matplotlib.colors as mcolors\n",
        "\n",
        "    if value < -100 or value > 100:\n",
        "        return \"Input value must be between -100 and 100\"\n",
        "\n",
        "    # Create custom colormap\n",
        "    colors = [(1, 0, 0), (1, 1, 1), (0, 0.5, 0)]  # R -> W -> G\n",
        "    cmap_name = 'custom'\n",
        "    cm = mcolors.LinearSegmentedColormap.from_list(cmap_name, colors, N=256)\n",
        "\n",
        "    # Normalize the input value to range [0,1]\n",
        "    norm = mpl.colors.Normalize(vmin=-100, vmax=100)\n",
        "    rgb = cm(norm(value))  # Get RGB color\n",
        "    hex_color = mcolors.rgb2hex(rgb) # Convert RGB to hex\n",
        "\n",
        "    return hex_color"
      ],
      "metadata": {
        "id": "xwagEJDYuB3L"
      },
      "execution_count": 2,
      "outputs": []
    },
    {
      "cell_type": "markdown",
      "source": [
        "## _sector_table()"
      ],
      "metadata": {
        "id": "n89DewqPle6I"
      }
    },
    {
      "cell_type": "code",
      "source": [
        "def _sector_table(spark):\n",
        "\n",
        "    import numpy as np\n",
        "    import pandas as pd\n",
        "\n",
        "    df = _Data.get_eo990pandas(spark)\n",
        "\n",
        "    c1 = df['NTEE3'] != 'Z99' # hide unknown for now\n",
        "    c2 = df['CYContributionsGrantsAmt'] > 0 # used for cell size\n",
        "    df2 = df[c1 & c2][\n",
        "        ['EIN','NTEE3','SECTOR',\n",
        "         'PYContributionsGrantsAmt','CYContributionsGrantsAmt']\n",
        "    ].groupby(['NTEE3','SECTOR']\n",
        "    ).agg(\n",
        "        count=('EIN', 'count'),\n",
        "        CYamount=('CYContributionsGrantsAmt', 'sum'),\n",
        "        PYamount=('PYContributionsGrantsAmt', 'sum')\n",
        "    ).reset_index() # move NTEE3 & SECTOR to columns\n",
        "    df2['mil'] = (df2['CYamount'] / 1_000_000).round().astype(int)\n",
        "    df2['growth'] = np.where(\n",
        "        df2['PYamount'] == 0, 0,\n",
        "        (df2['CYamount'] - df2['PYamount']) * 100.0 / df2['PYamount']\n",
        "    )\n",
        "    df2['growth'] = np.where(\n",
        "        df2['growth'] > 100, 100,\n",
        "        df2['growth']).astype(float)\n",
        "    df2['color'] = df2['growth'].apply(_get_color)\n",
        "\n",
        "    df3 = df2.copy() #merge(m.gcst, left_on='NTEE3', right_on='code')\n",
        "    #df3['count'] = df3['EIN'].apply(lambda x: \"{:,}\".format(x))\n",
        "    chunks = [] # array of chunks\n",
        "    #display(df3)\n",
        "    for index, row in df3.iterrows():\n",
        "        amount = int(row['CYamount'])\n",
        "        growth = row['growth']\n",
        "        count = row['count']\n",
        "        desc_title = f'${amount:,.0f} ({growth:,.2f}%)'\n",
        "        count_title = f'{count:,.0f} organizations'\n",
        "        chunk = f\"\"\"<tr style=\"background-color: {row['color']};\">\n",
        "<td class=\"description\" title=\"{row['SECTOR']}\">{row['SECTOR']}</td>\n",
        "<td class=\"org_amount\" title=\"{desc_title}\">{row['mil']}</td>\n",
        "<td class=\"org_count\" title=\"{count_title}\">{row['count']}</td>\n",
        "<td class=\"link\"><button onclick=\"loadIframe('{row['NTEE3']}')\">\n",
        "{row['NTEE3']}</button></td></tr>\"\"\"\n",
        "        chunks.append(chunk) # joining array later is faster\n",
        "    sectors_html = '\\n'.join(chunks)\n",
        "    table_html = f\"\"\"\\\n",
        "<table id=\"myTable\" border=\"1\">\n",
        "<tr>\n",
        "    <th class=\"description\">sector</th>\n",
        "    <th class=\"org_amount\">mil$</th>\n",
        "    <th class=\"org_count\">orgs</th>\n",
        "    <th class=\"link\">view</th>\n",
        "</tr>{sectors_html}</table>\n",
        "\"\"\"\n",
        "    return table_html"
      ],
      "metadata": {
        "id": "I3n1JtHxliVo"
      },
      "execution_count": 3,
      "outputs": []
    },
    {
      "cell_type": "markdown",
      "source": [
        "## _giving_treemap_sectors()"
      ],
      "metadata": {
        "id": "uLDIdEVI3zmR"
      }
    },
    {
      "cell_type": "code",
      "source": [
        "def _giving_treemap_sectors(spark, kind='growth', ntee3='', publish=False):\n",
        "\n",
        "    import numpy as np\n",
        "    import pandas as pd\n",
        "    import plotly.express as px\n",
        "\n",
        "    df = _Data.get_eo990pandas(spark)\n",
        "\n",
        "    crit = df['CYContributionsGrantsAmt'] > 0\n",
        "    df2 = df[crit].copy().sort_values(\n",
        "        'CYContributionsGrantsAmt', ascending=False)\n",
        "    df2['PYContributionsRetained'] = (\n",
        "        df2['PYContributionsGrantsAmt'] - df2['PYGrantsAndSimilarPaidAmt'])\n",
        "    df2['CYContributionsRetained'] = (\n",
        "        df2['CYContributionsGrantsAmt'] - df2['CYGrantsAndSimilarPaidAmt'])\n",
        "\n",
        "    rename_dict = {\n",
        "        'ReturnTypeCd': 'Return',\n",
        "        'TaxPeriodEndDt': 'TaxPeriodEnd',\n",
        "        'BusinessName': 'Name',\n",
        "        'CITY': 'City',\n",
        "        'STATE': 'State',\n",
        "        'PYContributionsGrantsAmt': 'PY Contributions Grants Amt',\n",
        "        'CYContributionsGrantsAmt': 'CY Contributions Grants Amt',\n",
        "        'PYGrantsAndSimilarPaidAmt': 'PY Grants And Similar Paid Amt',\n",
        "        'CYGrantsAndSimilarPaidAmt': 'CY Grants And Similar Paid Amt',\n",
        "        'PYTotalProfFndrsngExpnsAmt': 'PY Total Prof Fndrsng Expns Amt',\n",
        "        'CYTotalProfFndrsngExpnsAmt': 'CY Total Prof Fndrsng Expns Amt',\n",
        "        'CYTotalFundraisingExpenseAmt': 'CY Total Fundraising Expense Amt',\n",
        "        'TotalEmployeeCnt': 'Total Employee Count',\n",
        "        'TotalVolunteersCnt': 'Total Volunteers Count',\n",
        "        'PYContributionsRetained': 'PY Contributions Retained',\n",
        "        'CYContributionsRetained': 'CY Contributions Retained'\n",
        "    }\n",
        "    df2 = df2.rename(columns=rename_dict)\n",
        "\n",
        "    df2[\"level\"] = pd.cut( df2[\"CY Contributions Grants Amt\"],\n",
        "        [-np.inf, 999_999.999, 2_499_999.999, 9_999_999.999,\n",
        "               49_999_999.999, np.inf],\n",
        "        labels=[\n",
        "            '<b>Under $1M</b>', '<b>$1M-<$2.5M</b>', '<b>$2.5M-<$10M</b>',\n",
        "            '<b>$10M-<$50M</b>','<b>$50M and Up</b>']\n",
        "    )\n",
        "    df2['NTEE1'] = df2['NTEE3'].str[0:1]\n",
        "\n",
        "    dfg = df2.groupby(['NTEE1', 'NTEE3', 'SECTOR1', 'SECTOR']).agg(**{\n",
        "        'PY Contributions Grants Amt': ('PY Contributions Grants Amt', 'sum'),\n",
        "        'CY Contributions Grants Amt': ('CY Contributions Grants Amt', 'sum'),\n",
        "        'Count': ('EIN', 'count')\n",
        "    }).reset_index()\n",
        "\n",
        "    dfg['CY Contributions Grants Growth'] = np.where(\n",
        "        dfg['PY Contributions Grants Amt'] == 0, 0,\n",
        "        (dfg['CY Contributions Grants Amt']\n",
        "         - dfg['PY Contributions Grants Amt'])\n",
        "        * 100.0 / dfg['PY Contributions Grants Amt']\n",
        "    )\n",
        "    dfg['CY Contributions Grants Growth'] = np.where(\n",
        "        dfg['CY Contributions Grants Growth'] > 100, 100,\n",
        "        dfg['CY Contributions Grants Growth']).astype(float)\n",
        "    dfg['amount'] = dfg['CY Contributions Grants Amt']\n",
        "    dfg['growth'] = dfg['CY Contributions Grants Growth']\n",
        "\n",
        "    dfg['activity'] = '<b>' + dfg['SECTOR1'] + '</b>'\n",
        "    dfg['sector'] = dfg['SECTOR'] + ' (' + dfg['NTEE3']  + ')'\n",
        "    #display(dfg.head(10))\n",
        "    #pio.renderers.default = m.renderer\n",
        "    fig = px.treemap(\n",
        "        dfg,\n",
        "        #labels='NTEE3',\n",
        "        path=[px.Constant(\"U.S. Electronic 990 Filers\"), 'activity', 'sector'],\n",
        "        values='amount',\n",
        "        color='growth',\n",
        "        color_continuous_scale=['red','white','green'],\n",
        "        range_color=[-100, 100],\n",
        "        custom_data=['Count','NTEE3']\n",
        "    )\n",
        "    fig.update_layout(margin = dict(t=0, l=0, r=0, b=0))\n",
        "    fig.update_traces(marker_line_width = 0, tiling_pad = 1)\n",
        "    # highlight current NTEE3\n",
        "    labels = list(fig.data[0].labels)\n",
        "    if ntee3 != '':\n",
        "        high = df[df['NTEE3'] == ntee3]['SECTOR'].unique()[0] + f' ({ntee3})'\n",
        "        lc = ['rgb(141, 141, 255)'\n",
        "              if label == high else 'black' for label in labels]\n",
        "        lw = [3\n",
        "              if label == high else 0       for label in labels]\n",
        "        fig.data[0].marker.line.color = lc\n",
        "        fig.data[0].marker.line.width = lw\n",
        "    fig.data[0].texttemplate = \"\"\"\\\n",
        "%{label}<br>$%{value:,.0f}<br>%{customdata[0]:,.0f}<br><a\n",
        "href=\"main_guide.html?sector=%{customdata[1]}\"\n",
        "style=\"cursor: help; color: blue;\"\n",
        "rel=\"noopener noreferrer\">🔗</a>\"\"\"\n",
        "    hovertemplate = \"\"\"\\\n",
        "%{label}<br>$%{value:,.0f}<br>%{customdata[0]:,.0f}\"\"\"\n",
        "    #fig.data[0].hovertemplate = hovertemplate\n",
        "    fig.update_yaxes(range=[-100, 100])\n",
        "    fig.update_traces(hovertemplate = hovertemplate)\n",
        "    fig.update_traces(\n",
        "        textfont=dict(size=12), # Font size for other levels\n",
        "        insidetextfont=dict(size=12), # Font size for top level\n",
        "        #maxdepth=1, # 0 means only the top level will have a different size\n",
        "    )\n",
        "    return fig"
      ],
      "metadata": {
        "id": "hMB07uej34zt"
      },
      "execution_count": 4,
      "outputs": []
    },
    {
      "cell_type": "markdown",
      "source": [
        "## _giving_treemap_nonprofits()"
      ],
      "metadata": {
        "id": "BvkE4BL_Q-7x"
      }
    },
    {
      "cell_type": "code",
      "source": [
        "def _giving_treemap_nonprofits(df): # called by parallel process\n",
        "\n",
        "    import numpy as np\n",
        "    import pandas as pd\n",
        "    import plotly.express as px\n",
        "\n",
        "    ntee3 = df['NTEE3'].iloc[0]\n",
        "    sector_desc = df['SECTOR'].iloc[0]\n",
        "\n",
        "    # create groupings by contribution amount\n",
        "    cy_amt_col = 'CYContributionsGrantsAmt'\n",
        "    df[\"level\"] = pd.cut(df[cy_amt_col],\n",
        "        [-np.inf, 999_999.999, 2_499_999.999, 9_999_999.999,\n",
        "               49_999_999.999, np.inf],\n",
        "        labels=[\n",
        "            '<b>Under $1M</b>', '<b>$1M-<$2.5M</b>', '<b>$2.5M-<$10M</b>',\n",
        "            '<b>$10M-<$50M</b>','<b>$50M and Up</b>']\n",
        "    )\n",
        "\n",
        "    # limit to the largest organizations\n",
        "    threshold = 800\n",
        "    if df.shape[0] < threshold:\n",
        "        cutoff = 0\n",
        "    elif df[df[cy_amt_col] >=  1_000_000].shape[0] < threshold:\n",
        "        cutoff =  1_000_000\n",
        "    elif df[df[cy_amt_col] >=  2_500_000].shape[0] < threshold:\n",
        "        cutoff =  2_500_000\n",
        "    elif df[df[cy_amt_col] >= 10_000_000].shape[0] < threshold:\n",
        "        cutoff = 10_000_000\n",
        "    elif df[df[cy_amt_col] >= 50_000_000].shape[0] < threshold:\n",
        "        cutoff = 50_000_000\n",
        "    else:\n",
        "        cutoff = df.at[threshold-1,cy_amt_col]\n",
        "    df[\"nonprofit\"] = np.where(df[cy_amt_col] >= cutoff,df[\"EIN\"], \"Total\")\n",
        "\n",
        "    # regroup to collapse smaller organizations into one box\n",
        "    adf2 = df.groupby(['level','nonprofit']).agg(\n",
        "        py_amount=('PYContributionsGrantsAmt', 'sum'),\n",
        "        cy_amount=('CYContributionsGrantsAmt', 'sum'),\n",
        "        count=('EIN', 'count'),\n",
        "    )\n",
        "\n",
        "    # calculate contribution growth\n",
        "    adf2 = adf2[adf2[\"cy_amount\"] > 0].copy()\n",
        "    adf2['py_amount'] = adf2['py_amount'].round()\n",
        "    adf2['cy_amount'] = adf2['cy_amount'].round()\n",
        "    adf2[\"growth\"] = np.where(adf2[\"py_amount\"] == 0,0,\n",
        "        ( adf2[\"cy_amount\"] - adf2[\"py_amount\"]) * 100.0\n",
        "        / adf2[\"py_amount\"])\n",
        "\n",
        "    # cap growth to 100% for color balance\n",
        "    adf2[\"growth\"] = np.where(\n",
        "        adf2[\"growth\"] > 100, 100, adf2[\"growth\"]).astype(float)\n",
        "\n",
        "    adf2 = adf2.reset_index()\n",
        "\n",
        "    adf2 = adf2.merge(\n",
        "        df[['EIN','BusinessName', 'CITY', 'STATE']],\n",
        "        left_on='nonprofit', right_on='EIN', how='left')\n",
        "    adf2['BusinessName'].fillna('', inplace=True)\n",
        "    adf2['CITY'].fillna('', inplace=True)\n",
        "    adf2['STATE'].fillna('', inplace=True)\n",
        "    adf2['EIN'].fillna('Total', inplace=True)\n",
        "    adf2[\"link\"] = np.where(adf2[\"nonprofit\"] == \"Total\",\"\",\"🔗\")\n",
        "\n",
        "    # chart it in plotly!\n",
        "    sector_desc = f'{sector_desc} ({ntee3})'\n",
        "    fig = px.treemap(\n",
        "        adf2,\n",
        "        path=[px.Constant(sector_desc), 'level', 'EIN'],\n",
        "        values='cy_amount',\n",
        "        color='growth',\n",
        "        color_continuous_scale=['red','white','green'],\n",
        "        range_color=[-100, 100],\n",
        "        color_continuous_midpoint=0,\n",
        "        custom_data=['BusinessName', 'CITY', 'STATE', 'link']\n",
        "    )\n",
        "\n",
        "    fig.update_layout(margin = dict(t=0, l=0, r=0, b=0))\n",
        "    fig.update_traces(marker_line_width = 0, tiling_pad = 1)\n",
        "    labels = list(fig.data[0].labels)\n",
        "\n",
        "    fig.data[0].hovertemplate = \"\"\"\\\n",
        "%{customdata[0]}<br>$%{value:,.0f}}\n",
        "\"\"\"\n",
        "    fig.data[0].texttemplate = \"\"\"\\\n",
        "%{customdata[0]}<br>$%{value:,.0f}<br><a\n",
        "href=\"https://projects.propublica.org/nonprofits/organizations/%{label}\"\n",
        "style=\"cursor: help; color: blue;\" rel=\"noopener noreferrer\"\n",
        ">%{customdata[3]}</a>\"\"\"\n",
        "\n",
        "    return fig"
      ],
      "metadata": {
        "id": "jkvgBoIwRIot"
      },
      "execution_count": 9,
      "outputs": []
    },
    {
      "cell_type": "markdown",
      "source": [
        "## _main_guide_html()"
      ],
      "metadata": {
        "id": "LMFGVFihjSpe"
      }
    },
    {
      "cell_type": "code",
      "source": [
        "def _main_guide_html(spark):\n",
        "\n",
        "    from IPython.core.display import HTML\n",
        "\n",
        "    return HTML(f\"\"\"\\\n",
        "<!DOCTYPE html>\n",
        "<html lang=\"en\">\n",
        "<head>\n",
        "    <link rel=\"stylesheet\"\n",
        "    href=\"https://fonts.googleapis.com/css2?family=Open+Sans&display=swap\" />\n",
        "    <meta charset=\"UTF-8\">\n",
        "    <meta http-equiv=\"X-UA-Compatible\" content=\"IE=edge\">\n",
        "    <meta name=\"viewport\" content=\"width=device-width, initial-scale=1.0\">\n",
        "    <title>US Giving Treemap</title>\n",
        "    <style>\n",
        "        * {{ box-sizing: border-box; }}\n",
        "        body, html {{ margin: 0; padding: 0; height: 100%; }}\n",
        "        body {{ font-family: 'Open Sans', sans-serif; }}\n",
        "        #container {{ display: flex; height: 100%; }}\n",
        "        #left-sidebar {{\n",
        "            display: flex; flex-direction: column;\n",
        "            width: 300px; min-width: 300px; background-color: #ffffff;\n",
        "            padding: 0px; height: 100%;\n",
        "        }}\n",
        "        #right-content {{\n",
        "            flex-grow: 1; background-color: #e9e9e9; padding: 0px; height: 100%;\n",
        "        }}\n",
        "        #treemap-iframe {{ width: 99%; height: 99%; border: none; }}\n",
        "        #header {{\n",
        "\n",
        "        }}\n",
        "        #narrative {{\n",
        "            flex-grow: 1; background-color: pink;\n",
        "            padding: 5px 10px 5px 10px; height: 300px; overflow-y: auto;\n",
        "            background-color: #dddddd; line-height: 18px;\n",
        "        }}\n",
        "        .ntee, .description {{\n",
        "            text-align: left;\n",
        "        }}\n",
        "        .description {{\n",
        "            max-width: 148px;\n",
        "            white-space: nowrap;\n",
        "            overflow: hidden;\n",
        "            text-overflow: ellipsis;\n",
        "        }}\n",
        "        .descriptionX:hover {{\n",
        "            overflow: visible;\n",
        "            white-space: normal;\n",
        "            height:auto;  /* just added this line */\n",
        "        }}\n",
        "        .org_count, .org_amount {{\n",
        "            text-align: right;\n",
        "        }}\n",
        "        .link {{\n",
        "            text-align: center;\n",
        "        }}\n",
        "        #myTable {{\n",
        "            font-size: 12px; border-collapse: collapse; width: 100%;\n",
        "        }}\n",
        "    </style>\n",
        "</head>\n",
        "<body>\n",
        "    <div id=\"container\">\n",
        "        <div id=\"left-sidebar\">\n",
        "            <div id=\"header\">\n",
        "                <img height=64 style=\"margin-left: 5px;\"\n",
        "                    src=\"https://storage.googleapis.com/benevolentmachines/bm_full2.svg\">\n",
        "                <div style=\"margin-left: 10px; height: 28px;\">\n",
        "                    <b>US GIVING TREEMAP</b>\n",
        "                    <button class=\"help\"style=\"margin-left: 8px;\" onclick=\"loadIframe('')\">Help</button>\n",
        "                    <button class=\"all\" style=\"margin-left: 7px;\"onclick=\"loadIframe('')\">ALL</button>\n",
        "                    </div>\n",
        "            </div>\n",
        "            <div id=\"narrative\">\n",
        "\n",
        "    {_sector_table(spark)}\n",
        "\n",
        "\n",
        "            </div>\n",
        "        </div>\n",
        "        <div id=\"right-content\">\n",
        "            <iframe id=\"treemap-iframe\" src=\"\"></iframe>\n",
        "        </div>\n",
        "    </div>\n",
        "    <script>\n",
        "        function loadIframe(ntee3) {{\n",
        "            var url = \"main_treemap.html\"\n",
        "            if (ntee3 != '') {{\n",
        "                url = \"sector_treemap_\" + ntee3 + \".html\"\n",
        "            }}\n",
        "            var iframe = document.getElementById('treemap-iframe');\n",
        "            if (iframe) {{\n",
        "                iframe.src = url;\n",
        "            }} else {{\n",
        "                console.error('iframe with id \"treemap-iframe\" not found');\n",
        "            }}\n",
        "        }}\n",
        "        window.addEventListener('resize', function() {{\n",
        "            var iframe = document.getElementById('treemap-iframe');\n",
        "            iframe.style.width = (window.innerWidth - 305) + 'px';\n",
        "            iframe.style.height = (window.innerHeight - 5) + 'px';\n",
        "        }});\n",
        "\n",
        "        document.addEventListener(\"DOMContentLoaded\", function() {{\n",
        "            var queryString = window.location.search;\n",
        "            var newUrl = 'main_treemap.html';\n",
        "            var urlParams = new URLSearchParams(queryString);\n",
        "            if (urlParams.has('sector')) {{\n",
        "                var sector = urlParams.get('sector');\n",
        "                var sector3 = sector ? sector.substring(0, 3) : '';\n",
        "                var newUrl = 'sector_treemap_'\n",
        "                    + encodeURIComponent(sector3) + '.html';\n",
        "            }}\n",
        "            var iframe = document.getElementById('treemap-iframe');\n",
        "            if (iframe) {{\n",
        "                iframe.src = newUrl;\n",
        "            }} else {{\n",
        "                console.error('iframe with id \"treemap-iframe\" not found');\n",
        "            }}\n",
        "\n",
        "            var headers = document.querySelectorAll(\"#myTable th\");\n",
        "            var table = document.querySelector(\"#myTable\");\n",
        "            var rows = Array.from(table.rows).slice(1); // Exclude the header row\n",
        "\n",
        "            headers.forEach(function(header, index) {{\n",
        "                header.addEventListener(\"click\", function() {{\n",
        "                    var sortedRows = rows.sort(function(a, b) {{\n",
        "                        var aValue = a.cells[index].innerText;\n",
        "                        var bValue = b.cells[index].innerText;\n",
        "                        if (!isNaN(aValue) && !isNaN(bValue)) {{\n",
        "                            return aValue - bValue;\n",
        "                        }}\n",
        "                        return aValue.localeCompare(bValue);\n",
        "                    }});\n",
        "\n",
        "                    // Toggle between ascending and descending\n",
        "                    if (header.getAttribute(\"data-order\") === \"asc\") {{\n",
        "                        sortedRows.reverse();\n",
        "                        header.setAttribute(\"data-order\", \"desc\");\n",
        "                    }} else {{\n",
        "                        header.setAttribute(\"data-order\", \"asc\");\n",
        "                    }}\n",
        "\n",
        "                    // Append the sorted rows to the table\n",
        "                    sortedRows.forEach(function(row) {{\n",
        "                        table.tBodies[0].appendChild(row);\n",
        "                    }});\n",
        "                }});\n",
        "            }});\n",
        "        }});\n",
        "    </script>\n",
        "</body>\n",
        "</html>\n",
        "\"\"\")"
      ],
      "metadata": {
        "id": "wMkoP_AJjfIM"
      },
      "execution_count": 6,
      "outputs": []
    },
    {
      "cell_type": "markdown",
      "source": [
        "## _treemap_replaces()"
      ],
      "metadata": {
        "id": "Bf-LaHO4OMSI"
      }
    },
    {
      "cell_type": "code",
      "source": [
        "def _treemap_replaces(s):\n",
        "    s = s.replace('<body>', '<body style=\"margin:0; overflow=\"hidden\">')\n",
        "    s = s.replace('</head>',\n",
        "        '<style>.svg-container { overflow: hidden; }</style></head>')\n",
        "    return s"
      ],
      "metadata": {
        "id": "oDqFXA2TORvJ"
      },
      "execution_count": 7,
      "outputs": []
    },
    {
      "cell_type": "markdown",
      "source": [
        "## us_giving_treemaps()\n",
        "This function is exposed to the calling Python context.  It generates the various static HTML files with embedded Plotly charts that work together to make an interactive analytics output called a **Data Garden**.  It's availability to be invoked through datamachine enables the function to be injected into another notebook that participates in a backend data pipeline.\n",
        "\n"
      ],
      "metadata": {
        "id": "NUeYigjbhqJi"
      }
    },
    {
      "cell_type": "code",
      "source": [
        "def us_giving_treemaps(spark, folder):\n",
        "\n",
        "    import os\n",
        "    import shutil\n",
        "    import pandas as pd\n",
        "\n",
        "    print(\"draft_giving_treemap() ->\")\n",
        "    if os.path.isdir(folder):\n",
        "        shutil.rmtree(folder)\n",
        "    os.makedirs(folder)\n",
        "\n",
        "    with open(f'{folder}/main_guide.html', 'w', encoding='utf_8') as f:\n",
        "        f.write(_main_guide_html(spark).data)\n",
        "        print('main_guide.html written')\n",
        "\n",
        "    with open(f'{folder}/main_treemap.html', 'w', encoding='utf_8') as f:\n",
        "        fig = _giving_treemap_sectors(spark, kind='growth',ntee3='')\n",
        "        #fig.write_image(\"publish/_main.jpg\", width=1200, height=628) # linkedin\n",
        "        src = fig.to_html(full_html=True, include_plotlyjs='cdn')\n",
        "        #print(fig.to_json(pretty=True))\n",
        "        f.write(_treemap_replaces(src))\n",
        "        print('main_treemap.html written')\n",
        "\n",
        "    chart_df = _Data.get_eo990spark(spark)\n",
        "    #df = chart_df.repartition('NTEE3')\n",
        "    rdd = chart_df.rdd.keyBy(lambda row: row.NTEE3)\n",
        "    grouped_rdd = rdd.groupByKey()\n",
        "    print(\"Number of NTEE3: \", grouped_rdd.count())\n",
        "    #print(\"List of NTEE3s: \", sorted(grouped_rdd.keys().collect()))\n",
        "    COLUMNS = spark.sparkContext.broadcast(chart_df.columns)\n",
        "\n",
        "    def process_group(iterator):\n",
        "        pandas_df = pd.DataFrame(list(iterator), columns=COLUMNS.value)\n",
        "        ntee3 = pandas_df['NTEE3'].iloc[0]\n",
        "\n",
        "        fig = _giving_treemap_nonprofits(pandas_df) # create chart figure\n",
        "        path = f'{folder}/sector_treemap_{ntee3}.html'\n",
        "        with open(path, 'w', encoding='utf_8') as f:\n",
        "            #f.write(\"testing\")\n",
        "            src = fig.to_html(full_html=True, include_plotlyjs='cdn')\n",
        "            f.write(_treemap_replaces(src))\n",
        "\n",
        "        return path\n",
        "\n",
        "    result_rdd = grouped_rdd.mapValues(process_group)\n",
        "    collected_results = result_rdd.collect()\n",
        "\n",
        "    status = 0\n",
        "    return status # will be passed via datamachine ??"
      ],
      "metadata": {
        "id": "gAmV7Gy2hyPy"
      },
      "execution_count": 14,
      "outputs": []
    },
    {
      "cell_type": "markdown",
      "source": [
        "# TESTS\n",
        "This part sets up the packages, data, and test runs needed to operate the module for development purposes.  The `#test` comment at the top of each cell will exclude the cell from being executed in the calling context.  However, the contents of these cells are still imported in their commented form, so don't use any sensitive information here or anywhere else in this notebook.     "
      ],
      "metadata": {
        "id": "uY7Wl0Z_xdzg"
      }
    },
    {
      "cell_type": "markdown",
      "source": [
        "## Install packages"
      ],
      "metadata": {
        "id": "6NfDPiwWLfPt"
      }
    },
    {
      "cell_type": "code",
      "source": [
        "#test\n",
        "%pip install pyspark==3.5.0\n",
        "%pip install datamachine"
      ],
      "metadata": {
        "id": "s8GL-9kW1hLy"
      },
      "execution_count": null,
      "outputs": []
    },
    {
      "cell_type": "markdown",
      "source": [
        "## Imports"
      ],
      "metadata": {
        "id": "ZEalNkpqVOH2"
      }
    },
    {
      "cell_type": "code",
      "source": [
        "#test\n",
        "import io\n",
        "import shutil\n",
        "import zipfile\n",
        "import requests\n",
        "from pyspark.sql import SparkSession\n",
        "import datamachine as dm"
      ],
      "metadata": {
        "id": "koKBsXA4ONeW"
      },
      "execution_count": 12,
      "outputs": []
    },
    {
      "cell_type": "markdown",
      "source": [
        "## Load data"
      ],
      "metadata": {
        "id": "azbtNWEkcbpS"
      }
    },
    {
      "cell_type": "code",
      "source": [
        "#test\n",
        "use_local_file = False\n",
        "filename = \"us_giving_treemap_data.zip\"\n",
        "if use_local_file is True:\n",
        "    print(f\"loading from local file: {filename}\")\n",
        "    zip_archive = zipfile.ZipFile(filename, 'r')\n",
        "else:\n",
        "    bucket = \"https://storage.googleapis.com/benevolentmachines\"\n",
        "    blob = f\"{bucket}/{filename}\"\n",
        "    print(f\"loading from online bucket\")\n",
        "    response = requests.get(blob)\n",
        "    zip_archive = zipfile.ZipFile(io.BytesIO(response.content))\n",
        "zip_archive.extractall()\n",
        "spark = SparkSession.builder.appName(\"us-giving-treemap\").getOrCreate()\n",
        "loaded_gcst_df = spark.read.parquet(\"transfer_gcst\")\n",
        "loaded_eo990_df = spark.read.parquet(\"transfer_eo990\")\n",
        "loaded_gcst_df.createOrReplaceTempView(\"gcst\")\n",
        "loaded_eo990_df.createOrReplaceTempView(\"eo990\")"
      ],
      "metadata": {
        "id": "0BcMHYXOQDYH",
        "colab": {
          "base_uri": "https://localhost:8080/"
        },
        "outputId": "34201034-2b0a-4162-f11f-74ce22448da7"
      },
      "execution_count": 13,
      "outputs": [
        {
          "output_type": "stream",
          "name": "stdout",
          "text": [
            "loading from online bucket\n"
          ]
        }
      ]
    },
    {
      "cell_type": "markdown",
      "source": [
        "## Test Module"
      ],
      "metadata": {
        "id": "TTKRDaPyciaV"
      }
    },
    {
      "cell_type": "code",
      "source": [
        "#test\n",
        "nb = \"https://colab.research.google.com/drive/1V_WVv0lrYOhFDvJ5NlLpP_idsOJMAmbk\"\n",
        "nbm = dm.import_notebook(nb)  # loads this notebook\n",
        "status = nbm.us_giving_treemaps(spark, folder=\"draft\")"
      ],
      "metadata": {
        "id": "VzAslv19Fjmi",
        "colab": {
          "base_uri": "https://localhost:8080/"
        },
        "outputId": "db911f01-eccb-4ef6-c5ff-09554d864688"
      },
      "execution_count": 15,
      "outputs": [
        {
          "output_type": "stream",
          "name": "stdout",
          "text": [
            "draft_giving_treemap() ->\n",
            "main_guide.html written\n",
            "main_treemap.html written\n",
            "Number of NTEE3:  758\n"
          ]
        }
      ]
    },
    {
      "cell_type": "markdown",
      "source": [
        "## Zip Test Results\n",
        "This cell creates a `draft.zip` file containing the outputs that you can download and browse on your own computer."
      ],
      "metadata": {
        "id": "5LDCyqMscNf_"
      }
    },
    {
      "cell_type": "code",
      "source": [
        "#test\n",
        "shutil.make_archive(base_name=\"draft\", format=\"zip\", root_dir=\"draft\")"
      ],
      "metadata": {
        "colab": {
          "base_uri": "https://localhost:8080/",
          "height": 36
        },
        "id": "FxjgPKZiBb8-",
        "outputId": "149a1c47-4210-48cb-a2bb-a065fe59ea3c"
      },
      "execution_count": 16,
      "outputs": [
        {
          "output_type": "execute_result",
          "data": {
            "text/plain": [
              "'/content/draft.zip'"
            ],
            "application/vnd.google.colaboratory.intrinsic+json": {
              "type": "string"
            }
          },
          "metadata": {},
          "execution_count": 16
        }
      ]
    }
  ]
}