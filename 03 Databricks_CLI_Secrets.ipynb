{
  "nbformat": 4,
  "nbformat_minor": 0,
  "metadata": {
    "colab": {
      "provenance": [],
      "authorship_tag": "ABX9TyOE0CZu9ivPqQbkjyL5uwnS",
      "include_colab_link": true
    },
    "kernelspec": {
      "name": "python3",
      "display_name": "Python 3"
    },
    "language_info": {
      "name": "python"
    }
  },
  "cells": [
    {
      "cell_type": "markdown",
      "metadata": {
        "id": "view-in-github",
        "colab_type": "text"
      },
      "source": [
        "<a href=\"https://colab.research.google.com/github/dave-killough/databricks-colab/blob/main/Databricks_CLI_Secrets.ipynb\" target=\"_parent\"><img src=\"https://colab.research.google.com/assets/colab-badge.svg\" alt=\"Open In Colab\"/></a>"
      ]
    },
    {
      "cell_type": "markdown",
      "source": [
        "# Databricks CLI Secrets 🔐\n",
        "It's a critical best practice to keep sensitive information separate from code and logs.  One option for doing this is creating a Databricks secret that guards the sensitive information while enabling its safe use in code and redaction in logs. Although configuring a Databricks secret is not supported in the Workspace UI, it can be easily accomplished through the Databricks CLI. This entire process can be executed within a notebook.\n",
        "\n",
        "In the example below, a storage account connection string is saved in a secret that can be securely accessed from Databricks code for operations such as updating a blob's content type. The first step is configuring the notebook's instance for running the Databricks CLI. In the following cell, replace the <WORKSPACE_HOST> part with the beginning of the URL used to access your Workspace. Your host value should look similar to this:\n",
        "\n",
        "`https://adb-9999999999999999.10.azuredatabricks.net`\n",
        "\n",
        "The next step is setting the access token. Click your user name on the top right of your Databricks Workspace UI, then select `User Settings`, then `Developer` under **Settings**, and then `MANAGE` in the **Access tokens** section.  Select `Generate new token` to enter a comment and generate the token.  Replace the `<ACCESS_TOKEN>` part below with the generated token.\n",
        "\n",
        "⚠️ CAUTION: KEEP YOUR NOTEBOOK PRIVATE TO ENSURE THE SECURITY OF YOUR TOKEN AND PROTECT SENSITIVE INFORMATION.\n",
        "\n",
        "After making the replacements, run the code cell below to create the configuration file that the Databricks CLI will use to authenticate your session:"
      ],
      "metadata": {
        "id": "pP6BGJUXVidk"
      }
    },
    {
      "cell_type": "code",
      "source": [
        "with open(\"/root/.databrickscfg\", \"w\") as file:\n",
        "    file.write(\"\"\"\\\n",
        "[DEFAULT]\n",
        "host = <WORKSPACE_HOST>\n",
        "token = <ACCESS_TOKEN>\n",
        "\"\"\")"
      ],
      "metadata": {
        "id": "flJmhmOYNUj8"
      },
      "execution_count": null,
      "outputs": []
    },
    {
      "cell_type": "markdown",
      "source": [
        "Now run the following cell, as it is, to quickly install the latest Databricks CLI and test your configuration by listing your clusters:"
      ],
      "metadata": {
        "id": "aQ7U_Q1jBTXp"
      }
    },
    {
      "cell_type": "code",
      "source": [
        "!rm -f '/usr/local/bin/databricks'\n",
        "!curl -fsSL https://raw.githubusercontent.com/databricks/setup-cli/main/install.sh | sh\n",
        "!databricks -v\n",
        "!databricks clusters list"
      ],
      "metadata": {
        "id": "hdZpJHT_F6Dq"
      },
      "execution_count": null,
      "outputs": []
    },
    {
      "cell_type": "markdown",
      "source": [
        "If the configuration and installation were successful, you are now able to run CLI commands directly in the notebook! To proceed with setting up the secret, you'll need a scope to contain it. Below, I have set the scope to be `eo990pipeline`, which the code uses for accessing the secret. Run the following cell to create this scope:"
      ],
      "metadata": {
        "id": "CErQH8PbBafE"
      }
    },
    {
      "cell_type": "code",
      "source": [
        "!databricks secrets create-scope eo990pipeline"
      ],
      "metadata": {
        "id": "LaFyBghZWdTZ"
      },
      "execution_count": null,
      "outputs": []
    },
    {
      "cell_type": "markdown",
      "source": [
        "With the scope created, we can now put a secret in it. For this example, we're using a connection string for an Azure storage account. You can obtain this from Azure by going to the storage account and selecting `Access keys` in the left pane under **Security + Networking**. Then, click `Show` next to the **Connection string** for either key1 or key2. Copy the value and put it in the cell below in place of `<SERVICE_ACCOUNT_CONNECTION_STRING>`. Run the cell to place the secret in the scope:\n",
        "\n",
        "⚠️ CAUTION: ENSURE THE VALUE IS INSIDE OF DOUBLE QUOTES TO WORK PROPERLY."
      ],
      "metadata": {
        "id": "ffzrLBTT_d2d"
      }
    },
    {
      "cell_type": "code",
      "source": [
        "!databricks secrets put-secret eo990pipeline sa_connection_string --string-value \"<SERVICE_ACCOUNT_CONNECTION_STRING>\""
      ],
      "metadata": {
        "id": "boSfIh1rXLw5"
      },
      "execution_count": null,
      "outputs": []
    },
    {
      "cell_type": "markdown",
      "source": [
        "Run the following code cell to verify the new scope and secret have been created successfully:"
      ],
      "metadata": {
        "id": "0sgPeFOH_ncY"
      }
    },
    {
      "cell_type": "code",
      "source": [
        "!databricks secrets list-scopes\n",
        "!databricks secrets list-secrets eo990pipeline"
      ],
      "metadata": {
        "id": "M7EJOXYEWrdz"
      },
      "execution_count": null,
      "outputs": []
    },
    {
      "cell_type": "markdown",
      "source": [
        "This code, provided below, is specifically for use in Databricks to securely access the secret without revealing it. In this example, we're changing the content type of an HTML file within a blob to 'text/html', enabling it to be browsed instead of downloaded."
      ],
      "metadata": {
        "id": "yUGP5Z1t_sAH"
      }
    },
    {
      "cell_type": "markdown",
      "source": [
        "``` python\n",
        "if 'DATABRICKS_RUNTIME_VERSION' in os.environ:\n",
        "    # the content-type needs to be changed for serving the output\n",
        "    !pip install pip install azure-storage-blob -q\n",
        "    from azure.storage.blob import BlobServiceClient, ContentSettings\n",
        "    from pyspark.dbutils import DBUtils\n",
        "    dbutils = DBUtils(spark)\n",
        "    connection_string = dbutils.secrets.get(scope=\"eo990pipeline\", key=\"sa_connection_string\")\n",
        "    container_name = \"eo990pipeline\"\n",
        "    blob_name = \"clustering.html\"\n",
        "    blob_service_client = BlobServiceClient.from_connection_string(connection_string)\n",
        "    blob_client = blob_service_client.get_blob_client(container=container_name, blob=blob_name)\n",
        "    blob_client.set_http_headers(content_settings=ContentSettings(content_type='text/html'))\n",
        "```"
      ],
      "metadata": {
        "id": "LaXCNt_TejDA"
      }
    },
    {
      "cell_type": "markdown",
      "source": [
        "And that's it! You can save this notebook to a secure location so you can revisit and modify your secrets setup or script the Databricks CLI for other tasks. This approach enables you to centralize your ACCESS_TOKEN, making it accessible from any computer, while also helping you reduce cluster costs and stay up to date with the latest Databricks CLI. Enjoy! -- Dave"
      ],
      "metadata": {
        "id": "87r7v2Wx_O9G"
      }
    }
  ]
}
